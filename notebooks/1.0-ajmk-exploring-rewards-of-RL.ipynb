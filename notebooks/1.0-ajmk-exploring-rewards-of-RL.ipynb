{
 "cells": [
  {
   "cell_type": "code",
   "execution_count": 17,
   "metadata": {},
   "outputs": [],
   "source": [
    "import pandas as pd\n",
    "import matplotlib.pyplot as plt\n",
    "import seaborn as sns"
   ]
  },
  {
   "cell_type": "code",
   "execution_count": 18,
   "metadata": {},
   "outputs": [],
   "source": [
    "min_reward = pd.read_csv('data/run-DDPG_srv_2020-05-21_18-26-289tv41p5j-tag-ray_tune_episode_reward_min.csv')\n",
    "max_reward = pd.read_csv('data/run-DDPG_srv_2020-05-21_18-26-289tv41p5j-tag-ray_tune_episode_reward_max.csv')\n",
    "mean_reward = pd.read_csv('data/run-DDPG_srv_2020-05-21_18-26-289tv41p5j-tag-ray_tune_episode_reward_mean-2.csv')"
   ]
  },
  {
   "cell_type": "code",
   "execution_count": 19,
   "metadata": {},
   "outputs": [
    {
     "data": {
      "text/html": [
       "<div>\n",
       "<style scoped>\n",
       "    .dataframe tbody tr th:only-of-type {\n",
       "        vertical-align: middle;\n",
       "    }\n",
       "\n",
       "    .dataframe tbody tr th {\n",
       "        vertical-align: top;\n",
       "    }\n",
       "\n",
       "    .dataframe thead th {\n",
       "        text-align: right;\n",
       "    }\n",
       "</style>\n",
       "<table border=\"1\" class=\"dataframe\">\n",
       "  <thead>\n",
       "    <tr style=\"text-align: right;\">\n",
       "      <th></th>\n",
       "      <th>Wall time</th>\n",
       "      <th>Step</th>\n",
       "      <th>Value</th>\n",
       "    </tr>\n",
       "  </thead>\n",
       "  <tbody>\n",
       "    <tr>\n",
       "      <th>0</th>\n",
       "      <td>1.590083e+09</td>\n",
       "      <td>1000</td>\n",
       "      <td>-2.172221</td>\n",
       "    </tr>\n",
       "    <tr>\n",
       "      <th>1</th>\n",
       "      <td>1.590084e+09</td>\n",
       "      <td>2000</td>\n",
       "      <td>-2.172220</td>\n",
       "    </tr>\n",
       "    <tr>\n",
       "      <th>2</th>\n",
       "      <td>1.590085e+09</td>\n",
       "      <td>3000</td>\n",
       "      <td>-2.172191</td>\n",
       "    </tr>\n",
       "    <tr>\n",
       "      <th>3</th>\n",
       "      <td>1.590087e+09</td>\n",
       "      <td>4000</td>\n",
       "      <td>-2.172168</td>\n",
       "    </tr>\n",
       "    <tr>\n",
       "      <th>4</th>\n",
       "      <td>1.590088e+09</td>\n",
       "      <td>5000</td>\n",
       "      <td>-2.172171</td>\n",
       "    </tr>\n",
       "    <tr>\n",
       "      <th>...</th>\n",
       "      <td>...</td>\n",
       "      <td>...</td>\n",
       "      <td>...</td>\n",
       "    </tr>\n",
       "    <tr>\n",
       "      <th>443</th>\n",
       "      <td>1.590736e+09</td>\n",
       "      <td>444000</td>\n",
       "      <td>-2.172135</td>\n",
       "    </tr>\n",
       "    <tr>\n",
       "      <th>444</th>\n",
       "      <td>1.590737e+09</td>\n",
       "      <td>445000</td>\n",
       "      <td>-2.172142</td>\n",
       "    </tr>\n",
       "    <tr>\n",
       "      <th>445</th>\n",
       "      <td>1.590739e+09</td>\n",
       "      <td>446000</td>\n",
       "      <td>-2.172137</td>\n",
       "    </tr>\n",
       "    <tr>\n",
       "      <th>446</th>\n",
       "      <td>1.590740e+09</td>\n",
       "      <td>447000</td>\n",
       "      <td>-2.172133</td>\n",
       "    </tr>\n",
       "    <tr>\n",
       "      <th>447</th>\n",
       "      <td>1.590741e+09</td>\n",
       "      <td>448000</td>\n",
       "      <td>-2.172133</td>\n",
       "    </tr>\n",
       "  </tbody>\n",
       "</table>\n",
       "<p>448 rows × 3 columns</p>\n",
       "</div>"
      ],
      "text/plain": [
       "        Wall time    Step     Value\n",
       "0    1.590083e+09    1000 -2.172221\n",
       "1    1.590084e+09    2000 -2.172220\n",
       "2    1.590085e+09    3000 -2.172191\n",
       "3    1.590087e+09    4000 -2.172168\n",
       "4    1.590088e+09    5000 -2.172171\n",
       "..            ...     ...       ...\n",
       "443  1.590736e+09  444000 -2.172135\n",
       "444  1.590737e+09  445000 -2.172142\n",
       "445  1.590739e+09  446000 -2.172137\n",
       "446  1.590740e+09  447000 -2.172133\n",
       "447  1.590741e+09  448000 -2.172133\n",
       "\n",
       "[448 rows x 3 columns]"
      ]
     },
     "execution_count": 19,
     "metadata": {},
     "output_type": "execute_result"
    }
   ],
   "source": [
    "min_reward"
   ]
  },
  {
   "cell_type": "code",
   "execution_count": 20,
   "metadata": {},
   "outputs": [
    {
     "data": {
      "text/html": [
       "<div>\n",
       "<style scoped>\n",
       "    .dataframe tbody tr th:only-of-type {\n",
       "        vertical-align: middle;\n",
       "    }\n",
       "\n",
       "    .dataframe tbody tr th {\n",
       "        vertical-align: top;\n",
       "    }\n",
       "\n",
       "    .dataframe thead th {\n",
       "        text-align: right;\n",
       "    }\n",
       "</style>\n",
       "<table border=\"1\" class=\"dataframe\">\n",
       "  <thead>\n",
       "    <tr style=\"text-align: right;\">\n",
       "      <th></th>\n",
       "      <th>Wall time</th>\n",
       "      <th>Step</th>\n",
       "      <th>Value</th>\n",
       "    </tr>\n",
       "  </thead>\n",
       "  <tbody>\n",
       "    <tr>\n",
       "      <th>0</th>\n",
       "      <td>1.590083e+09</td>\n",
       "      <td>1000</td>\n",
       "      <td>-2.172037</td>\n",
       "    </tr>\n",
       "    <tr>\n",
       "      <th>1</th>\n",
       "      <td>1.590084e+09</td>\n",
       "      <td>2000</td>\n",
       "      <td>-2.172042</td>\n",
       "    </tr>\n",
       "    <tr>\n",
       "      <th>2</th>\n",
       "      <td>1.590085e+09</td>\n",
       "      <td>3000</td>\n",
       "      <td>-2.172133</td>\n",
       "    </tr>\n",
       "    <tr>\n",
       "      <th>3</th>\n",
       "      <td>1.590087e+09</td>\n",
       "      <td>4000</td>\n",
       "      <td>-2.172137</td>\n",
       "    </tr>\n",
       "    <tr>\n",
       "      <th>4</th>\n",
       "      <td>1.590088e+09</td>\n",
       "      <td>5000</td>\n",
       "      <td>-2.172135</td>\n",
       "    </tr>\n",
       "    <tr>\n",
       "      <th>...</th>\n",
       "      <td>...</td>\n",
       "      <td>...</td>\n",
       "      <td>...</td>\n",
       "    </tr>\n",
       "    <tr>\n",
       "      <th>443</th>\n",
       "      <td>1.590736e+09</td>\n",
       "      <td>444000</td>\n",
       "      <td>-2.172094</td>\n",
       "    </tr>\n",
       "    <tr>\n",
       "      <th>444</th>\n",
       "      <td>1.590737e+09</td>\n",
       "      <td>445000</td>\n",
       "      <td>-2.172092</td>\n",
       "    </tr>\n",
       "    <tr>\n",
       "      <th>445</th>\n",
       "      <td>1.590739e+09</td>\n",
       "      <td>446000</td>\n",
       "      <td>-2.172098</td>\n",
       "    </tr>\n",
       "    <tr>\n",
       "      <th>446</th>\n",
       "      <td>1.590740e+09</td>\n",
       "      <td>447000</td>\n",
       "      <td>-2.172098</td>\n",
       "    </tr>\n",
       "    <tr>\n",
       "      <th>447</th>\n",
       "      <td>1.590741e+09</td>\n",
       "      <td>448000</td>\n",
       "      <td>-2.172096</td>\n",
       "    </tr>\n",
       "  </tbody>\n",
       "</table>\n",
       "<p>448 rows × 3 columns</p>\n",
       "</div>"
      ],
      "text/plain": [
       "        Wall time    Step     Value\n",
       "0    1.590083e+09    1000 -2.172037\n",
       "1    1.590084e+09    2000 -2.172042\n",
       "2    1.590085e+09    3000 -2.172133\n",
       "3    1.590087e+09    4000 -2.172137\n",
       "4    1.590088e+09    5000 -2.172135\n",
       "..            ...     ...       ...\n",
       "443  1.590736e+09  444000 -2.172094\n",
       "444  1.590737e+09  445000 -2.172092\n",
       "445  1.590739e+09  446000 -2.172098\n",
       "446  1.590740e+09  447000 -2.172098\n",
       "447  1.590741e+09  448000 -2.172096\n",
       "\n",
       "[448 rows x 3 columns]"
      ]
     },
     "execution_count": 20,
     "metadata": {},
     "output_type": "execute_result"
    }
   ],
   "source": [
    "max_reward"
   ]
  },
  {
   "cell_type": "code",
   "execution_count": 30,
   "metadata": {},
   "outputs": [
    {
     "data": {
      "text/plain": [
       "<matplotlib.axes._subplots.AxesSubplot at 0x131289470>"
      ]
     },
     "execution_count": 30,
     "metadata": {},
     "output_type": "execute_result"
    },
    {
     "data": {
      "image/png": "[encoded data removed]",
      "text/plain": [
       "<Figure size 432x288 with 1 Axes>"
      ]
     },
     "metadata": {
      "needs_background": "light"
     },
     "output_type": "display_data"
    }
   ],
   "source": [
    "sns.lineplot(data=min_reward[min_reward.Step>5000], x='Step', y='Value')\n",
    "sns.lineplot(data=max_reward[max_reward.Step>5000], x='Step', y='Value')\n",
    "sns.regplot(data=mean_reward[mean_reward.Step>5000], x='Step', y='Value', line_kws={'color':\"red\"})\n"
   ]
  }
 ],
 "metadata": {
  "kernelspec": {
   "display_name": "Python 3",
   "language": "python",
   "name": "python3"
  },
  "language_info": {
   "codemirror_mode": {
    "name": "ipython",
    "version": 3
   },
   "file_extension": ".py",
   "mimetype": "text/x-python",
   "name": "python",
   "nbconvert_exporter": "python",
   "pygments_lexer": "ipython3",
   "version": "3.6.6"
  }
 },
 "nbformat": 4,
 "nbformat_minor": 2
}
