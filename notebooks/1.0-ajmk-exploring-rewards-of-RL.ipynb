{
 "cells": [
  {
   "cell_type": "code",
   "execution_count": 7,
   "metadata": {},
   "outputs": [],
   "source": [
    "import pandas as pd\n",
    "import matplotlib.pyplot as plt\n",
    "import seaborn as sns"
   ]
  },
  {
   "cell_type": "code",
   "execution_count": 8,
   "metadata": {},
   "outputs": [],
   "source": [
    "min_reward = pd.read_csv('data/run-DDPG_srv_2020-05-21_18-26-289tv41p5j-tag-ray_tune_episode_reward_min.csv')\n",
    "max_reward = pd.read_csv('data/run-DDPG_srv_2020-05-21_18-26-289tv41p5j-tag-ray_tune_episode_reward_max.csv')\n",
    "mean_reward = pd.read_csv('data/run-DDPG_srv_2020-05-21_18-26-289tv41p5j-tag-ray_tune_episode_reward_mean-2.csv')"
   ]
  },
  {
   "cell_type": "code",
   "execution_count": 9,
   "metadata": {},
   "outputs": [
    {
     "data": {
      "text/html": [
       "<div>\n",
       "<style scoped>\n",
       "    .dataframe tbody tr th:only-of-type {\n",
       "        vertical-align: middle;\n",
       "    }\n",
       "\n",
       "    .dataframe tbody tr th {\n",
       "        vertical-align: top;\n",
       "    }\n",
       "\n",
       "    .dataframe thead th {\n",
       "        text-align: right;\n",
       "    }\n",
       "</style>\n",
       "<table border=\"1\" class=\"dataframe\">\n",
       "  <thead>\n",
       "    <tr style=\"text-align: right;\">\n",
       "      <th></th>\n",
       "      <th>Wall time</th>\n",
       "      <th>Step</th>\n",
       "      <th>Value</th>\n",
       "    </tr>\n",
       "  </thead>\n",
       "  <tbody>\n",
       "    <tr>\n",
       "      <th>0</th>\n",
       "      <td>1.590083e+09</td>\n",
       "      <td>1000</td>\n",
       "      <td>-2.172221</td>\n",
       "    </tr>\n",
       "    <tr>\n",
       "      <th>1</th>\n",
       "      <td>1.590084e+09</td>\n",
       "      <td>2000</td>\n",
       "      <td>-2.172220</td>\n",
       "    </tr>\n",
       "    <tr>\n",
       "      <th>2</th>\n",
       "      <td>1.590085e+09</td>\n",
       "      <td>3000</td>\n",
       "      <td>-2.172191</td>\n",
       "    </tr>\n",
       "    <tr>\n",
       "      <th>3</th>\n",
       "      <td>1.590087e+09</td>\n",
       "      <td>4000</td>\n",
       "      <td>-2.172168</td>\n",
       "    </tr>\n",
       "    <tr>\n",
       "      <th>4</th>\n",
       "      <td>1.590088e+09</td>\n",
       "      <td>5000</td>\n",
       "      <td>-2.172171</td>\n",
       "    </tr>\n",
       "    <tr>\n",
       "      <th>...</th>\n",
       "      <td>...</td>\n",
       "      <td>...</td>\n",
       "      <td>...</td>\n",
       "    </tr>\n",
       "    <tr>\n",
       "      <th>236</th>\n",
       "      <td>1.590381e+09</td>\n",
       "      <td>237000</td>\n",
       "      <td>-2.172154</td>\n",
       "    </tr>\n",
       "    <tr>\n",
       "      <th>237</th>\n",
       "      <td>1.590382e+09</td>\n",
       "      <td>238000</td>\n",
       "      <td>-2.172152</td>\n",
       "    </tr>\n",
       "    <tr>\n",
       "      <th>238</th>\n",
       "      <td>1.590384e+09</td>\n",
       "      <td>239000</td>\n",
       "      <td>-2.172147</td>\n",
       "    </tr>\n",
       "    <tr>\n",
       "      <th>239</th>\n",
       "      <td>1.590385e+09</td>\n",
       "      <td>240000</td>\n",
       "      <td>-2.172151</td>\n",
       "    </tr>\n",
       "    <tr>\n",
       "      <th>240</th>\n",
       "      <td>1.590388e+09</td>\n",
       "      <td>241000</td>\n",
       "      <td>-2.172152</td>\n",
       "    </tr>\n",
       "  </tbody>\n",
       "</table>\n",
       "<p>241 rows × 3 columns</p>\n",
       "</div>"
      ],
      "text/plain": [
       "        Wall time    Step     Value\n",
       "0    1.590083e+09    1000 -2.172221\n",
       "1    1.590084e+09    2000 -2.172220\n",
       "2    1.590085e+09    3000 -2.172191\n",
       "3    1.590087e+09    4000 -2.172168\n",
       "4    1.590088e+09    5000 -2.172171\n",
       "..            ...     ...       ...\n",
       "236  1.590381e+09  237000 -2.172154\n",
       "237  1.590382e+09  238000 -2.172152\n",
       "238  1.590384e+09  239000 -2.172147\n",
       "239  1.590385e+09  240000 -2.172151\n",
       "240  1.590388e+09  241000 -2.172152\n",
       "\n",
       "[241 rows x 3 columns]"
      ]
     },
     "execution_count": 9,
     "metadata": {},
     "output_type": "execute_result"
    }
   ],
   "source": [
    "min_reward"
   ]
  },
  {
   "cell_type": "code",
   "execution_count": 10,
   "metadata": {},
   "outputs": [
    {
     "data": {
      "text/html": [
       "<div>\n",
       "<style scoped>\n",
       "    .dataframe tbody tr th:only-of-type {\n",
       "        vertical-align: middle;\n",
       "    }\n",
       "\n",
       "    .dataframe tbody tr th {\n",
       "        vertical-align: top;\n",
       "    }\n",
       "\n",
       "    .dataframe thead th {\n",
       "        text-align: right;\n",
       "    }\n",
       "</style>\n",
       "<table border=\"1\" class=\"dataframe\">\n",
       "  <thead>\n",
       "    <tr style=\"text-align: right;\">\n",
       "      <th></th>\n",
       "      <th>Wall time</th>\n",
       "      <th>Step</th>\n",
       "      <th>Value</th>\n",
       "    </tr>\n",
       "  </thead>\n",
       "  <tbody>\n",
       "    <tr>\n",
       "      <th>0</th>\n",
       "      <td>1.590083e+09</td>\n",
       "      <td>1000</td>\n",
       "      <td>-2.172037</td>\n",
       "    </tr>\n",
       "    <tr>\n",
       "      <th>1</th>\n",
       "      <td>1.590084e+09</td>\n",
       "      <td>2000</td>\n",
       "      <td>-2.172042</td>\n",
       "    </tr>\n",
       "    <tr>\n",
       "      <th>2</th>\n",
       "      <td>1.590085e+09</td>\n",
       "      <td>3000</td>\n",
       "      <td>-2.172133</td>\n",
       "    </tr>\n",
       "    <tr>\n",
       "      <th>3</th>\n",
       "      <td>1.590087e+09</td>\n",
       "      <td>4000</td>\n",
       "      <td>-2.172137</td>\n",
       "    </tr>\n",
       "    <tr>\n",
       "      <th>4</th>\n",
       "      <td>1.590088e+09</td>\n",
       "      <td>5000</td>\n",
       "      <td>-2.172135</td>\n",
       "    </tr>\n",
       "    <tr>\n",
       "      <th>...</th>\n",
       "      <td>...</td>\n",
       "      <td>...</td>\n",
       "      <td>...</td>\n",
       "    </tr>\n",
       "    <tr>\n",
       "      <th>236</th>\n",
       "      <td>1.590381e+09</td>\n",
       "      <td>237000</td>\n",
       "      <td>-2.172117</td>\n",
       "    </tr>\n",
       "    <tr>\n",
       "      <th>237</th>\n",
       "      <td>1.590382e+09</td>\n",
       "      <td>238000</td>\n",
       "      <td>-2.172114</td>\n",
       "    </tr>\n",
       "    <tr>\n",
       "      <th>238</th>\n",
       "      <td>1.590384e+09</td>\n",
       "      <td>239000</td>\n",
       "      <td>-2.172118</td>\n",
       "    </tr>\n",
       "    <tr>\n",
       "      <th>239</th>\n",
       "      <td>1.590385e+09</td>\n",
       "      <td>240000</td>\n",
       "      <td>-2.172116</td>\n",
       "    </tr>\n",
       "    <tr>\n",
       "      <th>240</th>\n",
       "      <td>1.590388e+09</td>\n",
       "      <td>241000</td>\n",
       "      <td>-2.172114</td>\n",
       "    </tr>\n",
       "  </tbody>\n",
       "</table>\n",
       "<p>241 rows × 3 columns</p>\n",
       "</div>"
      ],
      "text/plain": [
       "        Wall time    Step     Value\n",
       "0    1.590083e+09    1000 -2.172037\n",
       "1    1.590084e+09    2000 -2.172042\n",
       "2    1.590085e+09    3000 -2.172133\n",
       "3    1.590087e+09    4000 -2.172137\n",
       "4    1.590088e+09    5000 -2.172135\n",
       "..            ...     ...       ...\n",
       "236  1.590381e+09  237000 -2.172117\n",
       "237  1.590382e+09  238000 -2.172114\n",
       "238  1.590384e+09  239000 -2.172118\n",
       "239  1.590385e+09  240000 -2.172116\n",
       "240  1.590388e+09  241000 -2.172114\n",
       "\n",
       "[241 rows x 3 columns]"
      ]
     },
     "execution_count": 10,
     "metadata": {},
     "output_type": "execute_result"
    }
   ],
   "source": [
    "max_reward"
   ]
  },
  {
   "cell_type": "code",
   "execution_count": 11,
   "metadata": {},
   "outputs": [
    {
     "data": {
      "text/plain": [
       "<matplotlib.axes._subplots.AxesSubplot at 0x130dc9470>"
      ]
     },
     "execution_count": 11,
     "metadata": {},
     "output_type": "execute_result"
    },
    {
     "data": {
      "image/png": "[encoded data removed]",
      "text/plain": [
       "<Figure size 432x288 with 1 Axes>"
      ]
     },
     "metadata": {
      "needs_background": "light"
     },
     "output_type": "display_data"
    }
   ],
   "source": [
    "sns.lineplot(data=min_reward, x='Step', y='Value')\n",
    "sns.lineplot(data=max_reward, x='Step', y='Value')\n",
    "sns.lineplot(data=mean_reward, x='Step', y='Value')\n"
   ]
  }
 ],
 "metadata": {
  "kernelspec": {
   "display_name": "Python 3",
   "language": "python",
   "name": "python3"
  },
  "language_info": {
   "codemirror_mode": {
    "name": "ipython",
    "version": 3
   },
   "file_extension": ".py",
   "mimetype": "text/x-python",
   "name": "python",
   "nbconvert_exporter": "python",
   "pygments_lexer": "ipython3",
   "version": "3.6.6"
  }
 },
 "nbformat": 4,
 "nbformat_minor": 2
}
