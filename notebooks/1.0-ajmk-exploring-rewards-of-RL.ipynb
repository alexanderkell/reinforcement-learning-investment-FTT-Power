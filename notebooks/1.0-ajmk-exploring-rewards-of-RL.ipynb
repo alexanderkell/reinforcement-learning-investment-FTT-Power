{
 "cells": [
  {
   "cell_type": "code",
   "execution_count": 29,
   "metadata": {},
   "outputs": [],
   "source": [
    "import pandas as pd\n",
    "import matplotlib.pyplot as plt\n",
    "import seaborn as sns"
   ]
  },
  {
   "cell_type": "code",
   "execution_count": 30,
   "metadata": {},
   "outputs": [],
   "source": [
    "min_reward = pd.read_csv('data/run-DDPG_srv_2020-05-21_18-26-289tv41p5j-tag-ray_tune_episode_reward_min.csv')\n",
    "max_reward = pd.read_csv('data/run-DDPG_srv_2020-05-21_18-26-289tv41p5j-tag-ray_tune_episode_reward_max.csv')\n",
    "mean_reward = pd.read_csv('data/run-DDPG_srv_2020-05-21_18-26-289tv41p5j-tag-ray_tune_episode_reward_mean-2.csv')"
   ]
  },
  {
   "cell_type": "code",
   "execution_count": 31,
   "metadata": {},
   "outputs": [],
   "source": [
    "# Cloud run\n",
    "mean_reward_2 = pd.read_csv('data/cloud-run/run-DDPG_srv_2020-05-21_18-26-289tv41p5j-tag-ray_tune_episode_reward_mean.csv')\n",
    "# max_reward = pd.read_csv('data/run-DDPG_srv_2020-05-21_18-26-289tv41p5j-tag-ray_tune_episode_reward_max.csv')\n",
    "# mean_reward = pd.read_csv('data/run-DDPG_srv_2020-05-21_18-26-289tv41p5j-tag-ray_tune_episode_reward_mean-2.csv')"
   ]
  },
  {
   "cell_type": "code",
   "execution_count": 32,
   "metadata": {},
   "outputs": [
    {
     "data": {
      "text/html": [
       "<div>\n",
       "<style scoped>\n",
       "    .dataframe tbody tr th:only-of-type {\n",
       "        vertical-align: middle;\n",
       "    }\n",
       "\n",
       "    .dataframe tbody tr th {\n",
       "        vertical-align: top;\n",
       "    }\n",
       "\n",
       "    .dataframe thead th {\n",
       "        text-align: right;\n",
       "    }\n",
       "</style>\n",
       "<table border=\"1\" class=\"dataframe\">\n",
       "  <thead>\n",
       "    <tr style=\"text-align: right;\">\n",
       "      <th></th>\n",
       "      <th>Wall time</th>\n",
       "      <th>Step</th>\n",
       "      <th>Value</th>\n",
       "    </tr>\n",
       "  </thead>\n",
       "  <tbody>\n",
       "    <tr>\n",
       "      <th>0</th>\n",
       "      <td>1.590083e+09</td>\n",
       "      <td>62000</td>\n",
       "      <td>-2.172147</td>\n",
       "    </tr>\n",
       "    <tr>\n",
       "      <th>1</th>\n",
       "      <td>1.590084e+09</td>\n",
       "      <td>63000</td>\n",
       "      <td>-2.172149</td>\n",
       "    </tr>\n",
       "    <tr>\n",
       "      <th>2</th>\n",
       "      <td>1.590085e+09</td>\n",
       "      <td>64000</td>\n",
       "      <td>-2.172154</td>\n",
       "    </tr>\n",
       "    <tr>\n",
       "      <th>3</th>\n",
       "      <td>1.590087e+09</td>\n",
       "      <td>65000</td>\n",
       "      <td>-2.172154</td>\n",
       "    </tr>\n",
       "    <tr>\n",
       "      <th>4</th>\n",
       "      <td>1.590088e+09</td>\n",
       "      <td>66000</td>\n",
       "      <td>-2.172154</td>\n",
       "    </tr>\n",
       "    <tr>\n",
       "      <th>...</th>\n",
       "      <td>...</td>\n",
       "      <td>...</td>\n",
       "      <td>...</td>\n",
       "    </tr>\n",
       "    <tr>\n",
       "      <th>56</th>\n",
       "      <td>1.590144e+09</td>\n",
       "      <td>57000</td>\n",
       "      <td>-2.172150</td>\n",
       "    </tr>\n",
       "    <tr>\n",
       "      <th>57</th>\n",
       "      <td>1.590145e+09</td>\n",
       "      <td>58000</td>\n",
       "      <td>-2.172150</td>\n",
       "    </tr>\n",
       "    <tr>\n",
       "      <th>58</th>\n",
       "      <td>1.590146e+09</td>\n",
       "      <td>59000</td>\n",
       "      <td>-2.172149</td>\n",
       "    </tr>\n",
       "    <tr>\n",
       "      <th>59</th>\n",
       "      <td>1.590148e+09</td>\n",
       "      <td>60000</td>\n",
       "      <td>-2.172150</td>\n",
       "    </tr>\n",
       "    <tr>\n",
       "      <th>60</th>\n",
       "      <td>1.590149e+09</td>\n",
       "      <td>61000</td>\n",
       "      <td>-2.172151</td>\n",
       "    </tr>\n",
       "  </tbody>\n",
       "</table>\n",
       "<p>509 rows × 3 columns</p>\n",
       "</div>"
      ],
      "text/plain": [
       "       Wall time   Step     Value\n",
       "0   1.590083e+09  62000 -2.172147\n",
       "1   1.590084e+09  63000 -2.172149\n",
       "2   1.590085e+09  64000 -2.172154\n",
       "3   1.590087e+09  65000 -2.172154\n",
       "4   1.590088e+09  66000 -2.172154\n",
       "..           ...    ...       ...\n",
       "56  1.590144e+09  57000 -2.172150\n",
       "57  1.590145e+09  58000 -2.172150\n",
       "58  1.590146e+09  59000 -2.172149\n",
       "59  1.590148e+09  60000 -2.172150\n",
       "60  1.590149e+09  61000 -2.172151\n",
       "\n",
       "[509 rows x 3 columns]"
      ]
     },
     "execution_count": 32,
     "metadata": {},
     "output_type": "execute_result"
    }
   ],
   "source": [
    "mean_reward.Step = mean_reward.Step +61000\n",
    "mean_reward = pd.concat([mean_reward, mean_reward_2])\n",
    "mean_reward"
   ]
  },
  {
   "cell_type": "code",
   "execution_count": 33,
   "metadata": {},
   "outputs": [
    {
     "data": {
      "text/html": [
       "<div>\n",
       "<style scoped>\n",
       "    .dataframe tbody tr th:only-of-type {\n",
       "        vertical-align: middle;\n",
       "    }\n",
       "\n",
       "    .dataframe tbody tr th {\n",
       "        vertical-align: top;\n",
       "    }\n",
       "\n",
       "    .dataframe thead th {\n",
       "        text-align: right;\n",
       "    }\n",
       "</style>\n",
       "<table border=\"1\" class=\"dataframe\">\n",
       "  <thead>\n",
       "    <tr style=\"text-align: right;\">\n",
       "      <th></th>\n",
       "      <th>Wall time</th>\n",
       "      <th>Step</th>\n",
       "      <th>Value</th>\n",
       "    </tr>\n",
       "  </thead>\n",
       "  <tbody>\n",
       "    <tr>\n",
       "      <th>0</th>\n",
       "      <td>1.590083e+09</td>\n",
       "      <td>1000</td>\n",
       "      <td>-2.172037</td>\n",
       "    </tr>\n",
       "    <tr>\n",
       "      <th>1</th>\n",
       "      <td>1.590084e+09</td>\n",
       "      <td>2000</td>\n",
       "      <td>-2.172042</td>\n",
       "    </tr>\n",
       "    <tr>\n",
       "      <th>2</th>\n",
       "      <td>1.590085e+09</td>\n",
       "      <td>3000</td>\n",
       "      <td>-2.172133</td>\n",
       "    </tr>\n",
       "    <tr>\n",
       "      <th>3</th>\n",
       "      <td>1.590087e+09</td>\n",
       "      <td>4000</td>\n",
       "      <td>-2.172137</td>\n",
       "    </tr>\n",
       "    <tr>\n",
       "      <th>4</th>\n",
       "      <td>1.590088e+09</td>\n",
       "      <td>5000</td>\n",
       "      <td>-2.172135</td>\n",
       "    </tr>\n",
       "    <tr>\n",
       "      <th>...</th>\n",
       "      <td>...</td>\n",
       "      <td>...</td>\n",
       "      <td>...</td>\n",
       "    </tr>\n",
       "    <tr>\n",
       "      <th>443</th>\n",
       "      <td>1.590736e+09</td>\n",
       "      <td>444000</td>\n",
       "      <td>-2.172094</td>\n",
       "    </tr>\n",
       "    <tr>\n",
       "      <th>444</th>\n",
       "      <td>1.590737e+09</td>\n",
       "      <td>445000</td>\n",
       "      <td>-2.172092</td>\n",
       "    </tr>\n",
       "    <tr>\n",
       "      <th>445</th>\n",
       "      <td>1.590739e+09</td>\n",
       "      <td>446000</td>\n",
       "      <td>-2.172098</td>\n",
       "    </tr>\n",
       "    <tr>\n",
       "      <th>446</th>\n",
       "      <td>1.590740e+09</td>\n",
       "      <td>447000</td>\n",
       "      <td>-2.172098</td>\n",
       "    </tr>\n",
       "    <tr>\n",
       "      <th>447</th>\n",
       "      <td>1.590741e+09</td>\n",
       "      <td>448000</td>\n",
       "      <td>-2.172096</td>\n",
       "    </tr>\n",
       "  </tbody>\n",
       "</table>\n",
       "<p>448 rows × 3 columns</p>\n",
       "</div>"
      ],
      "text/plain": [
       "        Wall time    Step     Value\n",
       "0    1.590083e+09    1000 -2.172037\n",
       "1    1.590084e+09    2000 -2.172042\n",
       "2    1.590085e+09    3000 -2.172133\n",
       "3    1.590087e+09    4000 -2.172137\n",
       "4    1.590088e+09    5000 -2.172135\n",
       "..            ...     ...       ...\n",
       "443  1.590736e+09  444000 -2.172094\n",
       "444  1.590737e+09  445000 -2.172092\n",
       "445  1.590739e+09  446000 -2.172098\n",
       "446  1.590740e+09  447000 -2.172098\n",
       "447  1.590741e+09  448000 -2.172096\n",
       "\n",
       "[448 rows x 3 columns]"
      ]
     },
     "execution_count": 33,
     "metadata": {},
     "output_type": "execute_result"
    }
   ],
   "source": [
    "max_reward"
   ]
  },
  {
   "cell_type": "code",
   "execution_count": 34,
   "metadata": {},
   "outputs": [
    {
     "data": {
      "text/plain": [
       "<matplotlib.axes._subplots.AxesSubplot at 0x1337e6d68>"
      ]
     },
     "execution_count": 34,
     "metadata": {},
     "output_type": "execute_result"
    },
    {
     "data": {
      "image/png": "[encoded data removed]",
      "text/plain": [
       "<Figure size 432x288 with 1 Axes>"
      ]
     },
     "metadata": {
      "needs_background": "light"
     },
     "output_type": "display_data"
    }
   ],
   "source": [
    "sns.lineplot(data=min_reward[min_reward.Step>5000], x='Step', y='Value')\n",
    "sns.lineplot(data=max_reward[max_reward.Step>5000], x='Step', y='Value')\n",
    "sns.regplot(data=mean_reward[mean_reward.Step>5000], x='Step', y='Value', line_kws={'color':\"red\"})\n"
   ]
  }
 ],
 "metadata": {
  "kernelspec": {
   "display_name": "Python 3",
   "language": "python",
   "name": "python3"
  },
  "language_info": {
   "codemirror_mode": {
    "name": "ipython",
    "version": 3
   },
   "file_extension": ".py",
   "mimetype": "text/x-python",
   "name": "python",
   "nbconvert_exporter": "python",
   "pygments_lexer": "ipython3",
   "version": "3.6.6"
  }
 },
 "nbformat": 4,
 "nbformat_minor": 2
}
